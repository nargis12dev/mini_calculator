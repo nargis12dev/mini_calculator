{
  "nbformat": 4,
  "nbformat_minor": 0,
  "metadata": {
    "colab": {
      "provenance": []
    },
    "kernelspec": {
      "name": "python3",
      "display_name": "Python 3"
    },
    "language_info": {
      "name": "python"
    }
  },
  "cells": [
    {
      "cell_type": "code",
      "execution_count": null,
      "metadata": {
        "colab": {
          "base_uri": "https://localhost:8080/"
        },
        "id": "iVL92obNxIgi",
        "outputId": "51e9a1ce-7584-46c3-826d-c4d3a7e4678a"
      },
      "outputs": [
        {
          "output_type": "stream",
          "name": "stdout",
          "text": [
            "hello world\n"
          ]
        }
      ],
      "source": [
        "print(\"hello world\")"
      ]
    },
    {
      "cell_type": "code",
      "source": [
        "print(\"software\\n\")"
      ],
      "metadata": {
        "colab": {
          "base_uri": "https://localhost:8080/"
        },
        "id": "OkkcY5t610IO",
        "outputId": "e6fb8d6d-e486-4c94-f039-e606c68cb320"
      },
      "execution_count": null,
      "outputs": [
        {
          "output_type": "stream",
          "name": "stdout",
          "text": [
            "software\n",
            "\n"
          ]
        }
      ]
    },
    {
      "cell_type": "code",
      "source": [
        "#mini calculator\n",
        "num1=15\n",
        "num2=20\n",
        "print(num1+num2)"
      ],
      "metadata": {
        "colab": {
          "base_uri": "https://localhost:8080/"
        },
        "id": "wuytc_ez20Yt",
        "outputId": "6f8fc648-c754-41a2-89b4-3f7f73e1395e"
      },
      "execution_count": null,
      "outputs": [
        {
          "output_type": "stream",
          "name": "stdout",
          "text": [
            "35\n"
          ]
        }
      ]
    },
    {
      "cell_type": "code",
      "source": [
        "subtract=num1-num2\n",
        "subtract"
      ],
      "metadata": {
        "colab": {
          "base_uri": "https://localhost:8080/"
        },
        "id": "_vvifUUQ3hsR",
        "outputId": "47af5e93-11b5-4ae2-d1dd-9e7fcc2d9fa8"
      },
      "execution_count": null,
      "outputs": [
        {
          "output_type": "execute_result",
          "data": {
            "text/plain": [
              "-5"
            ]
          },
          "metadata": {},
          "execution_count": 13
        }
      ]
    },
    {
      "cell_type": "code",
      "source": [
        "multiply=num1*num2\n",
        "multiply"
      ],
      "metadata": {
        "colab": {
          "base_uri": "https://localhost:8080/"
        },
        "id": "ZOKB46C33v6h",
        "outputId": "9cecedb5-c713-4275-db4c-e8bfebf69b30"
      },
      "execution_count": null,
      "outputs": [
        {
          "output_type": "execute_result",
          "data": {
            "text/plain": [
              "300"
            ]
          },
          "metadata": {},
          "execution_count": 15
        }
      ]
    },
    {
      "cell_type": "code",
      "source": [
        "print (\"----mini calculator----\")\n",
        "\n",
        "num1 = int(input(\"enter first value: \"))\n",
        "num2 = int(input(\"enter second value: \"))\n",
        "print(\"1:addition \\n 2:subtraction \\n 3:division \\n 4:multiplication\")\n",
        "\n",
        "addition = num1+num2\n",
        "subtraction = num1-num2\n",
        "division=num1/num2\n",
        "multiplication = num1*num2\n",
        "\n",
        "\n",
        "choice=int(input(\"enter 1 till 4:\"))\n",
        "\n",
        "if choice == 1:\n",
        "    print(addition)\n",
        "elif choice == 2:\n",
        "    print(subtraction)\n",
        "elif choice == 3:\n",
        "    print(division)\n",
        "elif choice == 4:\n",
        "    print(multiplication)\n",
        "else:\n",
        "    print(\"invalid input\")\n",
        "\n"
      ],
      "metadata": {
        "colab": {
          "base_uri": "https://localhost:8080/"
        },
        "id": "Zxd6J9BT5NNA",
        "outputId": "43133a38-fe5f-4133-ed70-74542b54ffa9"
      },
      "execution_count": null,
      "outputs": [
        {
          "output_type": "stream",
          "name": "stdout",
          "text": [
            "----mini calculator----\n",
            "enter first value: 2\n",
            "enter second value: 3\n",
            "1:addition \n",
            " 2:subtraction \n",
            " 3:division \n",
            " 4:multiplication\n",
            "enter 1 till 4:3\n",
            "0.6666666666666666\n"
          ]
        }
      ]
    }
  ]
}